{
 "cells": [
  {
   "cell_type": "markdown",
   "metadata": {
    "id": "union-group"
   },
   "source": [
    "#### If we get an error due to certificate, run this code as code (instructor)\n",
    "import sys, os\n",
    "\n",
    "def override_where():\n",
    "    \"\"\" overrides certifi.core.where to return actual location of cacert.pem\"\"\"\n",
    "    # change this to match the location of cacert.pem\n",
    "    return os.path.abspath(\"cacert.pem\")\n",
    "\n",
    "\n",
    "#is the program compiled?\n",
    "if hasattr(sys, \"frozen\"):\n",
    "    import certifi.core\n",
    "\n",
    "    os.environ[\"REQUESTS_CA_BUNDLE\"] = override_where()\n",
    "    certifi.core.where = override_where\n",
    "\n",
    "    # delay importing until after where() has been replaced\n",
    "    import requests.utils\n",
    "    import requests.adapters\n",
    "    # replace these variables in case these modules were\n",
    "    # imported before we replaced certifi.core.where\n",
    "    requests.utils.DEFAULT_CA_BUNDLE_PATH = override_where()\n",
    "    requests.adapters.DEFAULT_CA_BUNDLE_PATH = override_where()\n",
    "    "
   ]
  },
  {
   "cell_type": "markdown",
   "metadata": {
    "id": "naughty-compilation"
   },
   "source": [
    "<span style=\"font-family: Palatino; font-size: 40px; color:purple\">\n",
    "             Homework - estimate sales volume for a retail chain.\n",
    "</span>\n"
   ]
  },
  {
   "cell_type": "markdown",
   "metadata": {
    "id": "apparent-vegetation"
   },
   "source": [
    "<span style=\"font-size:25px; color:purple\">\n",
    "    <b>Background</b>\n",
    "</span>"
   ]
  },
  {
   "cell_type": "markdown",
   "metadata": {
    "id": "million-namibia"
   },
   "source": [
    "### <span style=\"font-size:18px; color:purple\">Business context</span>"
   ]
  },
  {
   "cell_type": "markdown",
   "metadata": {
    "id": "closed-agriculture"
   },
   "source": [
    "**A large convenience store chain is interested in understanding when it can expect sales to be higher or lower than typical volumes.**\n",
    "\n",
    "**To date, little has been done by the firm to analyze or document the degree to which holidays or particular days of the week may affect sales.**\n",
    "\n",
    "**As a first step to understanding the problem, the company has reasoned that it would be useful understand on which days the firm may expect higher or lower sales volumes across its stores. (Later on, the firm plans to refine this analysis on a store-by-store basis).**"
   ]
  },
  {
   "cell_type": "markdown",
   "metadata": {
    "id": "duplicate-prize"
   },
   "source": [
    "### <span style=\"font-size:18px; color:purple\">Data</span>"
   ]
  },
  {
   "cell_type": "markdown",
   "metadata": {
    "id": "automotive-confidence"
   },
   "source": [
    "The dataset `retail_sales.csv` contains a little over a million observations on the sales of 1115 stores for the period 2013-01-01 through 2015-09-17.  The abridged data dictionary for the file is given below:\n",
    "\n",
    "| Column | Description|\n",
    "| :--   ||\n",
    "|`Store`         |   unique store identifier \n",
    "|`DayOfWeek`     |   day of week on which sales were observed (1= Sunday, 7 = Saturday)|\n",
    "|`Date`          |   date on which sales were observed|\n",
    "|`Open`          |   indicator of whether store was open on the day of the observation|\n",
    "|`Promo`         |   indicator of whether store was running a promotion on the day of the observation|\n",
    "|`StateHoliday`  |   indicator of whether date of observation was an official state holiday (a = public holiday, b = Easter, c = Christmas, 0 = No holiday)|\n",
    "|`SchoolHoliday` |   indicator of whether date of observation was an official school holiday|\n",
    "|`Sales`         |   total sales (in USD) for the store on the date of observation|\n",
    "|`Customers`     |   total number of purchasing customers for the store the on the date of observation  (This cannot be observed prior to the sales, so it cannot be used as an independent variable.)|"
   ]
  },
  {
   "cell_type": "markdown",
   "metadata": {
    "id": "continental-picking"
   },
   "source": [
    "### <span style=\"font-size:18px; color:purple\">Mandate</span>"
   ]
  },
  {
   "cell_type": "markdown",
   "metadata": {
    "id": "korean-livestock"
   },
   "source": [
    "The finance division has suggested it first needs to estimate the degree to which the aggregate sales of a store might have the opportunity to have much higher or lower sales than is typical for its stores.  (The company realizes that there is censorship in that sales will be lower when inventory runs short, but this is meant only to be a first step.)  Because different stores have different school and state holidays, the finance department has suggested that each store's sales be predicted and then that these predictions be aggregated across stores on a weekly basis.\n",
    "\n",
    "You have been asked to build **two** models:\n",
    "\n",
    "1. A crude model to predict the *total sales* volume for the firm on a given day.  \n",
    "2. A crude model to estimate the *probability* that a specific store will have much lower sales than the average sales for all stores  historically, where \"much lower\" is defined as more than one standard deviation below the historical average for all stores.   (Ignore for now issues of drift and of temporal and same-store correlation.)\n"
   ]
  },
  {
   "cell_type": "markdown",
   "metadata": {
    "id": "collaborative-edinburgh"
   },
   "source": [
    "### <span style=\"font-size:18px; color:purple\">Requirements</span>"
   ]
  },
  {
   "cell_type": "markdown",
   "metadata": {
    "id": "absent-hartford"
   },
   "source": [
    "* Please use `statsmodels.api` for your analysis.  \n",
    "* To keep things simple, please estimate \"linear\" models only.  Please start the walk-forward test on July 1, 2014, proceeding in one-week increments.\n",
    "* Please assume that for any `Store` on any `Date`, you will always _know in advance_ (i.e., before the beginning of each day) the values of:\n",
    "  * `DayOfWeek`\n",
    "  * `Open`\n",
    "  * `Promo`\n",
    "  * `StateHoliday` and \n",
    "  * `SchoolHoliday` ."
   ]
  },
  {
   "cell_type": "markdown",
   "metadata": {
    "id": "forward-kitty"
   },
   "source": [
    "### <span style=\"font-size:18px; color:purple\">Data set location</span>"
   ]
  },
  {
   "cell_type": "code",
   "execution_count": 6,
   "metadata": {
    "id": "touched-daniel"
   },
   "outputs": [],
   "source": [
    "path = \"./retail_sales\"\n",
    "fn      = 'retail_sales.csv'\n",
    "full_fn = path+'/'+fn"
   ]
  },
  {
   "cell_type": "code",
   "execution_count": 3,
   "metadata": {},
   "outputs": [
    {
     "data": {
      "text/plain": [
       "'C:\\\\Users\\\\wolfs\\\\roger2022\\\\Homeworks'"
      ]
     },
     "execution_count": 3,
     "metadata": {},
     "output_type": "execute_result"
    }
   ],
   "source": [
    "pwd"
   ]
  },
  {
   "cell_type": "markdown",
   "metadata": {
    "id": "sudden-structure"
   },
   "source": [
    "<span style=\"color:purple\"> `<span style=\"color:purple\"> ________________________________________________________________________ </span>`"
   ]
  },
  {
   "cell_type": "markdown",
   "metadata": {
    "id": "executed-flash"
   },
   "source": [
    "## <span style=\"color:purple\"> Q1: Please import the data and clean up the data frame to remove `NA` values, and convert any data types that imported incorrectly.  Then divide the data into  `traning` and `testing` samples. \n",
    "You will also need to convert some of the fields into more useful data types. Split on the following date: 2014-07-01</span>"
   ]
  },
  {
   "cell_type": "code",
   "execution_count": 7,
   "metadata": {
    "colab": {
     "base_uri": "https://localhost:8080/",
     "height": 450
    },
    "id": "formed-living",
    "outputId": "91c3c000-4dba-4ff1-a7ae-55b1f1cd2b71",
    "run_control": {
     "marked": true
    }
   },
   "outputs": [
    {
     "name": "stderr",
     "output_type": "stream",
     "text": [
      "C:\\Users\\wolfs\\miniconda3\\envs\\fastai\\lib\\site-packages\\IPython\\core\\interactiveshell.py:3444: DtypeWarning: Columns (7) have mixed types.Specify dtype option on import or set low_memory=False.\n",
      "  exec(code_obj, self.user_global_ns, self.user_ns)\n"
     ]
    }
   ],
   "source": [
    "import pandas as pd\n",
    "\n",
    "df = pd.read_csv(XXX)\n",
    "df.dropna(axis='index', subset=['Sales'],inplace=True)\n",
    "#cast dataframe to date\n",
    "df['Date'] = pd.to_datetime(df['Date'], format='%Y-%m-%d')\n",
    "#Convert StateHoliday column to string\n",
    "df['StateHoliday'] = df['StateHoliday'].astype(XXX)\n",
    "#Split training data\n",
    "df_train = df.loc[df['Date'] < XXX]\n",
    "df_test  = df.loc[df['Date'] >= XXX]"
   ]
  },
  {
   "cell_type": "markdown",
   "metadata": {
    "id": "secure-rally"
   },
   "source": [
    " \n",
    "## <span style=\"color:purple\">  Q2: Please perform EDA on the *`training` set (only)* to get a sense of whether you need to perform transformations </span>"
   ]
  },
  {
   "cell_type": "markdown",
   "metadata": {
    "id": "ranking-nutrition"
   },
   "source": [
    "Use `dataprep` to examine each column.  Also examine the relationship between each variable and `Sales.`    Write down your impressions of each variable's characteristics, and how you would transform the data, if transformation is necessary, in the spaces below: "
   ]
  },
  {
   "cell_type": "code",
   "execution_count": 1,
   "metadata": {
    "collapsed": true
   },
   "outputs": [
    {
     "name": "stdout",
     "output_type": "stream",
     "text": [
      "\u001b[31mERROR: Could not find a version that satisfies the requirement dataprep1111111 (from versions: none)\u001b[0m\r\n",
      "\u001b[31mERROR: No matching distribution found for dataprep1111111\u001b[0m\r\n"
     ]
    }
   ],
   "source": [
    "!pip install dataprep"
   ]
  },
  {
   "cell_type": "code",
   "execution_count": 17,
   "metadata": {
    "colab": {
     "base_uri": "https://localhost:8080/",
     "height": 373
    },
    "id": "above-turner",
    "outputId": "98f2b573-e472-4c1f-c660-f3b5460641e0"
   },
   "outputs": [
    {
     "name": "stderr",
     "output_type": "stream",
     "text": [
      "C:\\Users\\Public\\Documents\\Wondershare\\CreatorTemp/ipykernel_13584/1671848267.py:5: SettingWithCopyWarning: \n",
      "A value is trying to be set on a copy of a slice from a DataFrame.\n",
      "Try using .loc[row_indexer,col_indexer] = value instead\n",
      "\n",
      "See the caveats in the documentation: https://pandas.pydata.org/pandas-docs/stable/user_guide/indexing.html#returning-a-view-versus-a-copy\n",
      "  df_tmp['StateHoliday'] = pd.to_numeric(df_tmp['StateHoliday'], downcast='integer', errors='coerce')\n"
     ]
    },
    {
     "data": {
      "text/html": [
       "<div>\n",
       "<style scoped>\n",
       "    .dataframe tbody tr th:only-of-type {\n",
       "        vertical-align: middle;\n",
       "    }\n",
       "\n",
       "    .dataframe tbody tr th {\n",
       "        vertical-align: top;\n",
       "    }\n",
       "\n",
       "    .dataframe thead th {\n",
       "        text-align: right;\n",
       "    }\n",
       "</style>\n",
       "<table border=\"1\" class=\"dataframe\">\n",
       "  <thead>\n",
       "    <tr style=\"text-align: right;\">\n",
       "      <th></th>\n",
       "      <th>Store</th>\n",
       "      <th>DayOfWeek</th>\n",
       "      <th>Date</th>\n",
       "      <th>Sales</th>\n",
       "      <th>Customers</th>\n",
       "      <th>Open</th>\n",
       "      <th>Promo</th>\n",
       "      <th>StateHoliday</th>\n",
       "      <th>SchoolHoliday</th>\n",
       "    </tr>\n",
       "  </thead>\n",
       "  <tbody>\n",
       "    <tr>\n",
       "      <th>408420</th>\n",
       "      <td>1</td>\n",
       "      <td>1</td>\n",
       "      <td>2014-06-30</td>\n",
       "      <td>5738</td>\n",
       "      <td>641</td>\n",
       "      <td>1</td>\n",
       "      <td>1</td>\n",
       "      <td>0.0</td>\n",
       "      <td>0</td>\n",
       "    </tr>\n",
       "    <tr>\n",
       "      <th>408421</th>\n",
       "      <td>2</td>\n",
       "      <td>1</td>\n",
       "      <td>2014-06-30</td>\n",
       "      <td>10682</td>\n",
       "      <td>1021</td>\n",
       "      <td>1</td>\n",
       "      <td>1</td>\n",
       "      <td>0.0</td>\n",
       "      <td>0</td>\n",
       "    </tr>\n",
       "    <tr>\n",
       "      <th>408422</th>\n",
       "      <td>3</td>\n",
       "      <td>1</td>\n",
       "      <td>2014-06-30</td>\n",
       "      <td>15689</td>\n",
       "      <td>1193</td>\n",
       "      <td>1</td>\n",
       "      <td>1</td>\n",
       "      <td>0.0</td>\n",
       "      <td>0</td>\n",
       "    </tr>\n",
       "    <tr>\n",
       "      <th>408423</th>\n",
       "      <td>4</td>\n",
       "      <td>1</td>\n",
       "      <td>2014-06-30</td>\n",
       "      <td>15672</td>\n",
       "      <td>1783</td>\n",
       "      <td>1</td>\n",
       "      <td>1</td>\n",
       "      <td>0.0</td>\n",
       "      <td>0</td>\n",
       "    </tr>\n",
       "    <tr>\n",
       "      <th>408424</th>\n",
       "      <td>5</td>\n",
       "      <td>1</td>\n",
       "      <td>2014-06-30</td>\n",
       "      <td>7954</td>\n",
       "      <td>784</td>\n",
       "      <td>1</td>\n",
       "      <td>1</td>\n",
       "      <td>0.0</td>\n",
       "      <td>0</td>\n",
       "    </tr>\n",
       "    <tr>\n",
       "      <th>...</th>\n",
       "      <td>...</td>\n",
       "      <td>...</td>\n",
       "      <td>...</td>\n",
       "      <td>...</td>\n",
       "      <td>...</td>\n",
       "      <td>...</td>\n",
       "      <td>...</td>\n",
       "      <td>...</td>\n",
       "      <td>...</td>\n",
       "    </tr>\n",
       "    <tr>\n",
       "      <th>1016776</th>\n",
       "      <td>682</td>\n",
       "      <td>2</td>\n",
       "      <td>2013-01-01</td>\n",
       "      <td>3375</td>\n",
       "      <td>566</td>\n",
       "      <td>1</td>\n",
       "      <td>0</td>\n",
       "      <td>NaN</td>\n",
       "      <td>1</td>\n",
       "    </tr>\n",
       "    <tr>\n",
       "      <th>1016827</th>\n",
       "      <td>733</td>\n",
       "      <td>2</td>\n",
       "      <td>2013-01-01</td>\n",
       "      <td>10765</td>\n",
       "      <td>2377</td>\n",
       "      <td>1</td>\n",
       "      <td>0</td>\n",
       "      <td>NaN</td>\n",
       "      <td>1</td>\n",
       "    </tr>\n",
       "    <tr>\n",
       "      <th>1016863</th>\n",
       "      <td>769</td>\n",
       "      <td>2</td>\n",
       "      <td>2013-01-01</td>\n",
       "      <td>5035</td>\n",
       "      <td>1248</td>\n",
       "      <td>1</td>\n",
       "      <td>0</td>\n",
       "      <td>NaN</td>\n",
       "      <td>1</td>\n",
       "    </tr>\n",
       "    <tr>\n",
       "      <th>1017042</th>\n",
       "      <td>948</td>\n",
       "      <td>2</td>\n",
       "      <td>2013-01-01</td>\n",
       "      <td>4491</td>\n",
       "      <td>1039</td>\n",
       "      <td>1</td>\n",
       "      <td>0</td>\n",
       "      <td>NaN</td>\n",
       "      <td>1</td>\n",
       "    </tr>\n",
       "    <tr>\n",
       "      <th>1017190</th>\n",
       "      <td>1097</td>\n",
       "      <td>2</td>\n",
       "      <td>2013-01-01</td>\n",
       "      <td>5961</td>\n",
       "      <td>1405</td>\n",
       "      <td>1</td>\n",
       "      <td>0</td>\n",
       "      <td>NaN</td>\n",
       "      <td>1</td>\n",
       "    </tr>\n",
       "  </tbody>\n",
       "</table>\n",
       "<p>503607 rows × 9 columns</p>\n",
       "</div>"
      ],
      "text/plain": [
       "         Store  DayOfWeek       Date  Sales  Customers  Open  Promo  \\\n",
       "408420       1          1 2014-06-30   5738        641     1      1   \n",
       "408421       2          1 2014-06-30  10682       1021     1      1   \n",
       "408422       3          1 2014-06-30  15689       1193     1      1   \n",
       "408423       4          1 2014-06-30  15672       1783     1      1   \n",
       "408424       5          1 2014-06-30   7954        784     1      1   \n",
       "...        ...        ...        ...    ...        ...   ...    ...   \n",
       "1016776    682          2 2013-01-01   3375        566     1      0   \n",
       "1016827    733          2 2013-01-01  10765       2377     1      0   \n",
       "1016863    769          2 2013-01-01   5035       1248     1      0   \n",
       "1017042    948          2 2013-01-01   4491       1039     1      0   \n",
       "1017190   1097          2 2013-01-01   5961       1405     1      0   \n",
       "\n",
       "         StateHoliday  SchoolHoliday  \n",
       "408420            0.0              0  \n",
       "408421            0.0              0  \n",
       "408422            0.0              0  \n",
       "408423            0.0              0  \n",
       "408424            0.0              0  \n",
       "...               ...            ...  \n",
       "1016776           NaN              1  \n",
       "1016827           NaN              1  \n",
       "1016863           NaN              1  \n",
       "1017042           NaN              1  \n",
       "1017190           NaN              1  \n",
       "\n",
       "[503607 rows x 9 columns]"
      ]
     },
     "execution_count": 17,
     "metadata": {},
     "output_type": "execute_result"
    }
   ],
   "source": [
    "#import dataprep and use it to do EDA, pay special attention to the \"Open\" columns\n",
    "import XXX\n",
    "XXX\n"
   ]
  },
  {
   "cell_type": "markdown",
   "metadata": {
    "id": "million-vegetation"
   },
   "source": [
    "#### <span style=\"font-size:18px; color:purple\">`Store`</span>"
   ]
  },
  {
   "cell_type": "markdown",
   "metadata": {
    "id": "resident-advancement"
   },
   "source": [
    "XXX Variable Summary Here"
   ]
  },
  {
   "cell_type": "markdown",
   "metadata": {
    "id": "friendly-myrtle"
   },
   "source": [
    "#### <span style=\"font-size:18px; color:purple\"> `DayOfWeek`</span>"
   ]
  },
  {
   "cell_type": "markdown",
   "metadata": {
    "id": "satisfactory-brighton"
   },
   "source": [
    "XXX Variable Summary Here"
   ]
  },
  {
   "cell_type": "markdown",
   "metadata": {
    "id": "referenced-roulette"
   },
   "source": [
    "#### <span style=\"font-size:18px; color:purple\">`Date`</span>"
   ]
  },
  {
   "cell_type": "markdown",
   "metadata": {
    "id": "optical-illustration"
   },
   "source": [
    "XXX Variable Summary Here"
   ]
  },
  {
   "cell_type": "markdown",
   "metadata": {
    "id": "accompanied-absence"
   },
   "source": [
    "#### <span style=\"font-size:18px; color:purple\"> `Sales`</span>"
   ]
  },
  {
   "cell_type": "markdown",
   "metadata": {
    "id": "former-postcard"
   },
   "source": [
    "XXX Variable Summary Here"
   ]
  },
  {
   "cell_type": "markdown",
   "metadata": {
    "id": "saving-hazard"
   },
   "source": [
    "#### <span style=\"font-size:18px; color:purple\">`Customers`</span>"
   ]
  },
  {
   "cell_type": "markdown",
   "metadata": {
    "id": "executed-notice"
   },
   "source": [
    "XXX Variable Summary Here"
   ]
  },
  {
   "cell_type": "markdown",
   "metadata": {
    "id": "attempted-tamil"
   },
   "source": [
    "#### <span style=\"font-size:18px; color:purple\">`Open`</span>"
   ]
  },
  {
   "cell_type": "markdown",
   "metadata": {
    "id": "enormous-remove"
   },
   "source": [
    "XXX Variable Summary Here"
   ]
  },
  {
   "cell_type": "markdown",
   "metadata": {
    "id": "marine-scout"
   },
   "source": [
    "#### <span style=\"font-size:18px; color:purple\">`Promo`</span>"
   ]
  },
  {
   "cell_type": "markdown",
   "metadata": {
    "id": "backed-yellow"
   },
   "source": [
    "XXX Variable Summary Here"
   ]
  },
  {
   "cell_type": "markdown",
   "metadata": {
    "id": "congressional-fancy"
   },
   "source": [
    "#### <span style=\"font-size:18px; color:purple\">`StateHoliday`</span>"
   ]
  },
  {
   "cell_type": "markdown",
   "metadata": {
    "id": "intellectual-freeze"
   },
   "source": [
    "XXX Variable Summary Here"
   ]
  },
  {
   "cell_type": "markdown",
   "metadata": {
    "id": "latter-distributor"
   },
   "source": [
    "#### <span style=\"font-size:18px; color:purple\">`SchoolHoliday`</span>"
   ]
  },
  {
   "cell_type": "markdown",
   "metadata": {
    "id": "sustainable-exposure"
   },
   "source": [
    "XXX Variable Summary Here"
   ]
  },
  {
   "cell_type": "markdown",
   "metadata": {
    "id": "least-standard"
   },
   "source": [
    "## <span style=\"color:purple\">  Q3 Please prepare your data for modeling </span>\n",
    "\n",
    "Note that in addition to any preprocessing work you need to do to do to improve model performance at predicting `Sales`, you will also need to create a new target feature:\n",
    "1. Take the log of sales (`lnSales`)\n",
    "2. by first standardizing the value of `lnSales` by centering and scaling it to a z-score: \n",
    "$ z = \\frac{x-\\mu}{\\sigma}. $\n",
    "2. then creating a dummy for those z's that are less than -1 sd from the sample historical mean."
   ]
  },
  {
   "cell_type": "code",
   "execution_count": null,
   "metadata": {
    "colab": {
     "referenced_widgets": [
      "673b50c35254428794193f5d1cde3190"
     ]
    },
    "id": "technical-draft",
    "outputId": "25369f46-f2f5-475e-b3d7-f7009ae01db1"
   },
   "outputs": [
    {
     "data": {
      "application/vnd.jupyter.widget-view+json": {
       "model_id": "673b50c35254428794193f5d1cde3190"
      },
      "text/html": [
       "<div>\n",
       "<style scoped>\n",
       "    .dataframe tbody tr th:only-of-type {\n",
       "        vertical-align: middle;\n",
       "    }\n",
       "\n",
       "    .dataframe tbody tr th {\n",
       "        vertical-align: top;\n",
       "    }\n",
       "\n",
       "    .dataframe thead th {\n",
       "        text-align: right;\n",
       "    }\n",
       "</style>\n",
       "<table border=\"1\" class=\"dataframe\">\n",
       "  <thead>\n",
       "    <tr style=\"text-align: right;\">\n",
       "      <th></th>\n",
       "      <th>Store</th>\n",
       "      <th>Date</th>\n",
       "      <th>Sales</th>\n",
       "      <th>Customers</th>\n",
       "      <th>Open</th>\n",
       "      <th>Promo</th>\n",
       "      <th>SchoolHoliday</th>\n",
       "      <th>lnSales</th>\n",
       "      <th>zSales</th>\n",
       "      <th>lowSalesFlag</th>\n",
       "      <th>DayOfWeek_2</th>\n",
       "      <th>DayOfWeek_3</th>\n",
       "      <th>DayOfWeek_4</th>\n",
       "      <th>DayOfWeek_5</th>\n",
       "      <th>DayOfWeek_6</th>\n",
       "      <th>DayOfWeek_7</th>\n",
       "      <th>StateHoliday_a</th>\n",
       "      <th>StateHoliday_b</th>\n",
       "      <th>StateHoliday_c</th>\n",
       "    </tr>\n",
       "  </thead>\n",
       "  <tbody>\n",
       "    <tr>\n",
       "      <th>408420</th>\n",
       "      <td>1</td>\n",
       "      <td>2014-06-30</td>\n",
       "      <td>5738</td>\n",
       "      <td>641</td>\n",
       "      <td>1</td>\n",
       "      <td>1</td>\n",
       "      <td>0</td>\n",
       "      <td>8.655040</td>\n",
       "      <td>-0.190548</td>\n",
       "      <td>0</td>\n",
       "      <td>0</td>\n",
       "      <td>0</td>\n",
       "      <td>0</td>\n",
       "      <td>0</td>\n",
       "      <td>0</td>\n",
       "      <td>0</td>\n",
       "      <td>0</td>\n",
       "      <td>0</td>\n",
       "      <td>0</td>\n",
       "    </tr>\n",
       "    <tr>\n",
       "      <th>408421</th>\n",
       "      <td>2</td>\n",
       "      <td>2014-06-30</td>\n",
       "      <td>10682</td>\n",
       "      <td>1021</td>\n",
       "      <td>1</td>\n",
       "      <td>1</td>\n",
       "      <td>0</td>\n",
       "      <td>9.276409</td>\n",
       "      <td>1.239433</td>\n",
       "      <td>0</td>\n",
       "      <td>0</td>\n",
       "      <td>0</td>\n",
       "      <td>0</td>\n",
       "      <td>0</td>\n",
       "      <td>0</td>\n",
       "      <td>0</td>\n",
       "      <td>0</td>\n",
       "      <td>0</td>\n",
       "      <td>0</td>\n",
       "    </tr>\n",
       "    <tr>\n",
       "      <th>408422</th>\n",
       "      <td>3</td>\n",
       "      <td>2014-06-30</td>\n",
       "      <td>15689</td>\n",
       "      <td>1193</td>\n",
       "      <td>1</td>\n",
       "      <td>1</td>\n",
       "      <td>0</td>\n",
       "      <td>9.660779</td>\n",
       "      <td>2.124000</td>\n",
       "      <td>0</td>\n",
       "      <td>0</td>\n",
       "      <td>0</td>\n",
       "      <td>0</td>\n",
       "      <td>0</td>\n",
       "      <td>0</td>\n",
       "      <td>0</td>\n",
       "      <td>0</td>\n",
       "      <td>0</td>\n",
       "      <td>0</td>\n",
       "    </tr>\n",
       "    <tr>\n",
       "      <th>408423</th>\n",
       "      <td>4</td>\n",
       "      <td>2014-06-30</td>\n",
       "      <td>15672</td>\n",
       "      <td>1783</td>\n",
       "      <td>1</td>\n",
       "      <td>1</td>\n",
       "      <td>0</td>\n",
       "      <td>9.659695</td>\n",
       "      <td>2.121505</td>\n",
       "      <td>0</td>\n",
       "      <td>0</td>\n",
       "      <td>0</td>\n",
       "      <td>0</td>\n",
       "      <td>0</td>\n",
       "      <td>0</td>\n",
       "      <td>0</td>\n",
       "      <td>0</td>\n",
       "      <td>0</td>\n",
       "      <td>0</td>\n",
       "    </tr>\n",
       "    <tr>\n",
       "      <th>408424</th>\n",
       "      <td>5</td>\n",
       "      <td>2014-06-30</td>\n",
       "      <td>7954</td>\n",
       "      <td>784</td>\n",
       "      <td>1</td>\n",
       "      <td>1</td>\n",
       "      <td>0</td>\n",
       "      <td>8.981556</td>\n",
       "      <td>0.560876</td>\n",
       "      <td>0</td>\n",
       "      <td>0</td>\n",
       "      <td>0</td>\n",
       "      <td>0</td>\n",
       "      <td>0</td>\n",
       "      <td>0</td>\n",
       "      <td>0</td>\n",
       "      <td>0</td>\n",
       "      <td>0</td>\n",
       "      <td>0</td>\n",
       "    </tr>\n",
       "    <tr>\n",
       "      <th>...</th>\n",
       "      <td>...</td>\n",
       "      <td>...</td>\n",
       "      <td>...</td>\n",
       "      <td>...</td>\n",
       "      <td>...</td>\n",
       "      <td>...</td>\n",
       "      <td>...</td>\n",
       "      <td>...</td>\n",
       "      <td>...</td>\n",
       "      <td>...</td>\n",
       "      <td>...</td>\n",
       "      <td>...</td>\n",
       "      <td>...</td>\n",
       "      <td>...</td>\n",
       "      <td>...</td>\n",
       "      <td>...</td>\n",
       "      <td>...</td>\n",
       "      <td>...</td>\n",
       "      <td>...</td>\n",
       "    </tr>\n",
       "    <tr>\n",
       "      <th>1016776</th>\n",
       "      <td>682</td>\n",
       "      <td>2013-01-01</td>\n",
       "      <td>3375</td>\n",
       "      <td>566</td>\n",
       "      <td>1</td>\n",
       "      <td>0</td>\n",
       "      <td>1</td>\n",
       "      <td>8.124447</td>\n",
       "      <td>-1.411624</td>\n",
       "      <td>1</td>\n",
       "      <td>1</td>\n",
       "      <td>0</td>\n",
       "      <td>0</td>\n",
       "      <td>0</td>\n",
       "      <td>0</td>\n",
       "      <td>0</td>\n",
       "      <td>1</td>\n",
       "      <td>0</td>\n",
       "      <td>0</td>\n",
       "    </tr>\n",
       "    <tr>\n",
       "      <th>1016827</th>\n",
       "      <td>733</td>\n",
       "      <td>2013-01-01</td>\n",
       "      <td>10765</td>\n",
       "      <td>2377</td>\n",
       "      <td>1</td>\n",
       "      <td>0</td>\n",
       "      <td>1</td>\n",
       "      <td>9.284148</td>\n",
       "      <td>1.257244</td>\n",
       "      <td>0</td>\n",
       "      <td>1</td>\n",
       "      <td>0</td>\n",
       "      <td>0</td>\n",
       "      <td>0</td>\n",
       "      <td>0</td>\n",
       "      <td>0</td>\n",
       "      <td>1</td>\n",
       "      <td>0</td>\n",
       "      <td>0</td>\n",
       "    </tr>\n",
       "    <tr>\n",
       "      <th>1016863</th>\n",
       "      <td>769</td>\n",
       "      <td>2013-01-01</td>\n",
       "      <td>5035</td>\n",
       "      <td>1248</td>\n",
       "      <td>1</td>\n",
       "      <td>0</td>\n",
       "      <td>1</td>\n",
       "      <td>8.524367</td>\n",
       "      <td>-0.491271</td>\n",
       "      <td>0</td>\n",
       "      <td>1</td>\n",
       "      <td>0</td>\n",
       "      <td>0</td>\n",
       "      <td>0</td>\n",
       "      <td>0</td>\n",
       "      <td>0</td>\n",
       "      <td>1</td>\n",
       "      <td>0</td>\n",
       "      <td>0</td>\n",
       "    </tr>\n",
       "    <tr>\n",
       "      <th>1017042</th>\n",
       "      <td>948</td>\n",
       "      <td>2013-01-01</td>\n",
       "      <td>4491</td>\n",
       "      <td>1039</td>\n",
       "      <td>1</td>\n",
       "      <td>0</td>\n",
       "      <td>1</td>\n",
       "      <td>8.410053</td>\n",
       "      <td>-0.754346</td>\n",
       "      <td>0</td>\n",
       "      <td>1</td>\n",
       "      <td>0</td>\n",
       "      <td>0</td>\n",
       "      <td>0</td>\n",
       "      <td>0</td>\n",
       "      <td>0</td>\n",
       "      <td>1</td>\n",
       "      <td>0</td>\n",
       "      <td>0</td>\n",
       "    </tr>\n",
       "    <tr>\n",
       "      <th>1017190</th>\n",
       "      <td>1097</td>\n",
       "      <td>2013-01-01</td>\n",
       "      <td>5961</td>\n",
       "      <td>1405</td>\n",
       "      <td>1</td>\n",
       "      <td>0</td>\n",
       "      <td>1</td>\n",
       "      <td>8.693161</td>\n",
       "      <td>-0.102818</td>\n",
       "      <td>0</td>\n",
       "      <td>1</td>\n",
       "      <td>0</td>\n",
       "      <td>0</td>\n",
       "      <td>0</td>\n",
       "      <td>0</td>\n",
       "      <td>0</td>\n",
       "      <td>1</td>\n",
       "      <td>0</td>\n",
       "      <td>0</td>\n",
       "    </tr>\n",
       "  </tbody>\n",
       "</table>\n",
       "<p>503607 rows × 19 columns</p>\n",
       "</div>"
      ],
      "text/plain": [
       "         Store       Date  Sales  Customers  Open  Promo  SchoolHoliday  \\\n",
       "408420       1 2014-06-30   5738        641     1      1              0   \n",
       "408421       2 2014-06-30  10682       1021     1      1              0   \n",
       "408422       3 2014-06-30  15689       1193     1      1              0   \n",
       "408423       4 2014-06-30  15672       1783     1      1              0   \n",
       "408424       5 2014-06-30   7954        784     1      1              0   \n",
       "...        ...        ...    ...        ...   ...    ...            ...   \n",
       "1016776    682 2013-01-01   3375        566     1      0              1   \n",
       "1016827    733 2013-01-01  10765       2377     1      0              1   \n",
       "1016863    769 2013-01-01   5035       1248     1      0              1   \n",
       "1017042    948 2013-01-01   4491       1039     1      0              1   \n",
       "1017190   1097 2013-01-01   5961       1405     1      0              1   \n",
       "\n",
       "          lnSales    zSales  lowSalesFlag  DayOfWeek_2  DayOfWeek_3  \\\n",
       "408420   8.655040 -0.190548             0            0            0   \n",
       "408421   9.276409  1.239433             0            0            0   \n",
       "408422   9.660779  2.124000             0            0            0   \n",
       "408423   9.659695  2.121505             0            0            0   \n",
       "408424   8.981556  0.560876             0            0            0   \n",
       "...           ...       ...           ...          ...          ...   \n",
       "1016776  8.124447 -1.411624             1            1            0   \n",
       "1016827  9.284148  1.257244             0            1            0   \n",
       "1016863  8.524367 -0.491271             0            1            0   \n",
       "1017042  8.410053 -0.754346             0            1            0   \n",
       "1017190  8.693161 -0.102818             0            1            0   \n",
       "\n",
       "         DayOfWeek_4  DayOfWeek_5  DayOfWeek_6  DayOfWeek_7  StateHoliday_a  \\\n",
       "408420             0            0            0            0               0   \n",
       "408421             0            0            0            0               0   \n",
       "408422             0            0            0            0               0   \n",
       "408423             0            0            0            0               0   \n",
       "408424             0            0            0            0               0   \n",
       "...              ...          ...          ...          ...             ...   \n",
       "1016776            0            0            0            0               1   \n",
       "1016827            0            0            0            0               1   \n",
       "1016863            0            0            0            0               1   \n",
       "1017042            0            0            0            0               1   \n",
       "1017190            0            0            0            0               1   \n",
       "\n",
       "         StateHoliday_b  StateHoliday_c  \n",
       "408420                0               0  \n",
       "408421                0               0  \n",
       "408422                0               0  \n",
       "408423                0               0  \n",
       "408424                0               0  \n",
       "...                 ...             ...  \n",
       "1016776               0               0  \n",
       "1016827               0               0  \n",
       "1016863               0               0  \n",
       "1017042               0               0  \n",
       "1017190               0               0  \n",
       "\n",
       "[503607 rows x 19 columns]"
      ]
     },
     "metadata": {},
     "output_type": "display_data"
    }
   ],
   "source": [
    "import numpy as np\n",
    "\n",
    "working_df            = XXX # eliminate observations for closed stores\n",
    "working_df['lnSales'] = XXX        # Take log add 1 to account for for zero sales days\n",
    "#working_df['lnSales'].hist()                                # make sure everything looks OK\n",
    "\n",
    "mu    = XXX    # calculate mean for z-scores\n",
    "sigma = XXX     # calculate sd for z-scores\n",
    "x     = XXX  # convert to np.array to permit vectorization\n",
    "z     = XXX\n",
    "\n",
    "working_df['zSales'] = XXX #set to new column for z score\n",
    "working_df['lowSalesFlag'] = XXX # set low flag column where z score is low\n",
    "\n",
    "working_df = XXX #Use pd.get_dummies to convert 'DayOfWeek' to dummy variable\n",
    "working_df = XXX #Use pd.get_dummies to convert 'StateHoliday' to dummy variable \n",
    "\n",
    "### display df to make sure the above worked\n",
    "working_df"
   ]
  },
  {
   "cell_type": "markdown",
   "metadata": {
    "id": "sublime-visitor"
   },
   "source": [
    "<span style=\"color:purple\"> `<span style=\"color:purple\"> ________________________________________________________________________ </span>`"
   ]
  },
  {
   "cell_type": "markdown",
   "metadata": {
    "id": "difficult-place"
   },
   "source": [
    "## <span style=\"color:purple\">  Q4: Use OLS to estimate a model to predict  `lnSales` for for a given day  based on knowlege of observable day of the week and holiday features </span>"
   ]
  },
  {
   "cell_type": "code",
   "execution_count": null,
   "metadata": {
    "id": "floppy-ridge",
    "outputId": "4595d5d5-68f3-4e52-ed11-f40a38bbcf6c",
    "run_control": {
     "marked": true
    }
   },
   "outputs": [
    {
     "name": "stdout",
     "output_type": "stream",
     "text": [
      "                            OLS Regression Results                            \n",
      "==============================================================================\n",
      "Dep. Variable:                lnSales   R-squared:                       0.178\n",
      "Model:                            OLS   Adj. R-squared:                  0.178\n",
      "Method:                 Least Squares   F-statistic:                     9929.\n",
      "Date:                Sun, 26 Dec 2021   Prob (F-statistic):               0.00\n",
      "Time:                        10:21:28   Log-Likelihood:            -2.4541e+05\n",
      "No. Observations:              503607   AIC:                         4.908e+05\n",
      "Df Residuals:                  503595   BIC:                         4.910e+05\n",
      "Df Model:                          11                                         \n",
      "Covariance Type:            nonrobust                                         \n",
      "==================================================================================\n",
      "                     coef    std err          t      P>|t|      [0.025      0.975]\n",
      "----------------------------------------------------------------------------------\n",
      "Intercept          8.7099      0.002   5548.408      0.000       8.707       8.713\n",
      "Promo              0.3354      0.001    272.963      0.000       0.333       0.338\n",
      "SchoolHoliday      0.0327      0.001     21.858      0.000       0.030       0.036\n",
      "DayOfWeek_2       -0.1409      0.002    -73.208      0.000      -0.145      -0.137\n",
      "DayOfWeek_3       -0.1673      0.002    -86.369      0.000      -0.171      -0.164\n",
      "DayOfWeek_4       -0.1713      0.002    -87.360      0.000      -0.175      -0.167\n",
      "DayOfWeek_5       -0.1000      0.002    -51.691      0.000      -0.104      -0.096\n",
      "DayOfWeek_6       -0.1566      0.002    -76.093      0.000      -0.161      -0.153\n",
      "DayOfWeek_7       -0.0354      0.009     -4.031      0.000      -0.053      -0.018\n",
      "StateHoliday_a     0.0675      0.019      3.638      0.000       0.031       0.104\n",
      "StateHoliday_b     0.0227      0.040      0.563      0.573      -0.056       0.102\n",
      "StateHoliday_c     0.3970      0.066      6.045      0.000       0.268       0.526\n",
      "==============================================================================\n",
      "Omnibus:                   146319.499   Durbin-Watson:                   1.823\n",
      "Prob(Omnibus):                  0.000   Jarque-Bera (JB):          5642969.918\n",
      "Skew:                          -0.707   Prob(JB):                         0.00\n",
      "Kurtosis:                      19.338   Cond. No.                         140.\n",
      "==============================================================================\n",
      "\n",
      "Notes:\n",
      "[1] Standard Errors assume that the covariance matrix of the errors is correctly specified.\n"
     ]
    }
   ],
   "source": [
    "import statsmodels.api as sm\n",
    "import statsmodels.formula.api as smf\n",
    "\n",
    "dat = working_df\n",
    "\n",
    "#Fill in the formula for statmodel below \n",
    "f = 'lnSales ~ XXX'\n",
    "\n",
    "### Fit the model\n",
    "model_ols = smf.ols(XXX,data = XXX).fit90\n",
    "\n",
    "\n",
    "print(model_ols.summary())\n"
   ]
  },
  {
   "cell_type": "markdown",
   "metadata": {
    "id": "focused-software"
   },
   "source": [
    "## <span style=\"color:purple\"> Q5:  Based on your \"linear\" model results answer the following questions:</span>"
   ]
  },
  {
   "cell_type": "markdown",
   "metadata": {
    "id": "surrounded-wrong"
   },
   "source": [
    "### <span style=\"color:purple\">  For which day, on average, are sales highest for stores? </span>"
   ]
  },
  {
   "cell_type": "markdown",
   "metadata": {
    "id": "enhanced-spencer"
   },
   "source": [
    "XXX"
   ]
  },
  {
   "cell_type": "markdown",
   "metadata": {
    "id": "comparable-celebrity"
   },
   "source": [
    "### <span style=\"color:purple\">  Are sales higher on Friday or Saturday on average?  By how much?  (round to 2 decimal places) </span>"
   ]
  },
  {
   "cell_type": "markdown",
   "metadata": {
    "id": "short-sugar"
   },
   "source": [
    "XXX"
   ]
  },
  {
   "cell_type": "markdown",
   "metadata": {
    "id": "patient-horror"
   },
   "source": [
    "### <span style=\"color:purple\">  Are sales generally higher or lower than average on holidays? </span>"
   ]
  },
  {
   "cell_type": "markdown",
   "metadata": {
    "id": "accurate-protection"
   },
   "source": [
    "XXX"
   ]
  },
  {
   "cell_type": "markdown",
   "metadata": {
    "id": "ecological-alarm"
   },
   "source": [
    "## Q6:  <span style=\"color:purple\">Prepare a the test data set for validation</span>"
   ]
  },
  {
   "cell_type": "code",
   "execution_count": null,
   "metadata": {
    "id": "clean-calculator",
    "run_control": {
     "marked": true
    }
   },
   "outputs": [],
   "source": [
    "testing_df            = XXX    # eliminate observations for closed stores\n",
    "testing_df['lnSales'] = XXX      # take log add 1 to account for for zero sales days\n",
    "\n",
    "### which mu and sigma shoudl you use\n",
    "x     = XXX    # convert to np.array to permit vectorization\n",
    "z     = XXX\n",
    "testing_df['zSales'] = XXX\n",
    "testing_df['lowSalesFlag'] = XXX\n",
    "\n",
    "testing_df = XXX ###Get dummies as above\n",
    "testing_df = XXX ###Get dummies as above"
   ]
  },
  {
   "cell_type": "markdown",
   "metadata": {
    "id": "restricted-progress"
   },
   "source": [
    "## <span style=\"color:purple\"> Q6: Now predict sales for the individual stores in data in`test_df` </span>"
   ]
  },
  {
   "cell_type": "code",
   "execution_count": null,
   "metadata": {
    "id": "heard-uruguay",
    "outputId": "0911e2bf-ac33-41fe-aafd-30ee3f646127",
    "run_control": {
     "marked": true
    },
    "scrolled": true
   },
   "outputs": [
    {
     "data": {
      "text/plain": [
       "<AxesSubplot:>"
      ]
     },
     "execution_count": 89,
     "metadata": {},
     "output_type": "execute_result"
    },
    {
     "data": {
      "image/png": "[encoded data removed]",
      "text/plain": [
       "<Figure size 432x288 with 1 Axes>"
      ]
     },
     "metadata": {
      "needs_background": "light"
     },
     "output_type": "display_data"
    }
   ],
   "source": [
    "dat = testing_df\n",
    "# make predictions\n",
    "\n",
    "pred = XXX  # predict out of sample\n",
    "\n",
    "#show hist\n",
    "pred.hist()"
   ]
  },
  {
   "cell_type": "markdown",
   "metadata": {
    "id": "sweet-texas"
   },
   "source": [
    "## <span style=\"color:purple\"> Q7 Calculate how accurate your predictions for individual firms are.  Plot the results.</span>"
   ]
  },
  {
   "cell_type": "code",
   "execution_count": null,
   "metadata": {
    "id": "dried-microphone",
    "outputId": "f9a3927c-87ab-41c3-d5ea-21f394ddd7be"
   },
   "outputs": [
    {
     "name": "stdout",
     "output_type": "stream",
     "text": [
      "RMS = 0.386; MAD= 0.033; pseudo-R2 = 0.179\n",
      "              actual      predicted\n",
      "count  340785.000000  340785.000000\n",
      "mean        8.785754       8.751353\n",
      "std         0.423911       0.184603\n",
      "min         0.000000       8.538620\n",
      "25%         8.523175       8.553319\n",
      "50%         8.788746       8.709928\n",
      "75%         9.055439       8.906712\n",
      "max        10.634701       9.078020\n"
     ]
    },
    {
     "data": {
      "image/png": "[encoded data removed]",
      "text/plain": [
       "<Figure size 432x288 with 1 Axes>"
      ]
     },
     "metadata": {
      "needs_background": "light"
     },
     "output_type": "display_data"
    }
   ],
   "source": [
    "import matplotlib.pyplot as plt\n",
    "\n",
    "act       = testing_df['lnSales']\n",
    "errors    = pred - act\n",
    "err       = np.array(errors)\n",
    "\n",
    "err2      = np.mean(err**2)\n",
    "MAD       = XXX\n",
    "RMS       = XXX\n",
    "r         = XXX\n",
    "pseudo_R2 = XXX\n",
    "\n",
    "print('RMS = %.3f; MAD= %.3f; pseudo-R2 = %.3f' % (RMS,MAD,pseudo_R2))\n",
    "\n",
    "## Plotting code\n",
    "pred_df = pd.DataFrame({\"actual\":act, \"predicted\":pred})\n",
    "plt_df  = pred_df.sample(n=1000, replace=False, random_state=123).sort_index()\n",
    "plt_min = np.min(np.min(plt_df))\n",
    "plt_max = np.max(np.max(plt_df))\n",
    "plt_col = np.where(plt_df['actual']<plt_df['predicted'],\"red\",\"blue\")\n",
    "\n",
    "fig, ax = plt.subplots()\n",
    "ax.scatter(plt_df['actual'], y=plt_df['predicted'],c=plt_col)\n",
    "ax.set_xlim(plt_min,plt_max)\n",
    "ax.set_ylim(plt_min,plt_max)\n",
    "plt.xlabel(\"Actual\")\n",
    "plt.ylabel(\"Predicted\")\n",
    "plt.title(\"lnSales: Actual vs. Predicted\")\n",
    "fig\n",
    "\n",
    "print(pred_df.describe())\n"
   ]
  },
  {
   "cell_type": "markdown",
   "metadata": {
    "id": "explicit-chicago"
   },
   "source": [
    "## <span style=\"color:purple\"> Q8: Discuss your results. Does the model perform well? </span>"
   ]
  },
  {
   "cell_type": "markdown",
   "metadata": {
    "id": "permanent-transsexual"
   },
   "source": [
    "XXX"
   ]
  },
  {
   "cell_type": "markdown",
   "metadata": {
    "id": "accepted-preliminary"
   },
   "source": [
    "`________________________________________________________________________`"
   ]
  },
  {
   "cell_type": "markdown",
   "metadata": {
    "id": "martial-chess"
   },
   "source": [
    "## <span style=\"color:purple\"> Q9: Fit a logit model to the data to estimate the probability that `Sales` will be 'low' for for a given day  based on knowlege of observable day of the week and holiday features </span>"
   ]
  },
  {
   "cell_type": "code",
   "execution_count": null,
   "metadata": {
    "id": "frozen-ecology",
    "outputId": "5f6a3b81-b14f-4423-f523-f42a30de4506"
   },
   "outputs": [
    {
     "name": "stdout",
     "output_type": "stream",
     "text": [
      "Optimization terminated successfully.\n",
      "         Current function value: 0.366844\n",
      "         Iterations 7\n",
      "                           Logit Regression Results                           \n",
      "==============================================================================\n",
      "Dep. Variable:           lowSalesFlag   No. Observations:               503607\n",
      "Model:                          Logit   Df Residuals:                   503595\n",
      "Method:                           MLE   Df Model:                           11\n",
      "Date:                Sun, 26 Dec 2021   Pseudo R-squ.:                  0.1072\n",
      "Time:                        10:21:48   Log-Likelihood:            -1.8475e+05\n",
      "converged:                       True   LL-Null:                   -2.0692e+05\n",
      "Covariance Type:            nonrobust   LLR p-value:                     0.000\n",
      "==================================================================================\n",
      "                     coef    std err          z      P>|z|      [0.025      0.975]\n",
      "----------------------------------------------------------------------------------\n",
      "Intercept         -1.5897      0.013   -122.632      0.000      -1.615      -1.564\n",
      "Promo             -1.8862      0.013   -148.303      0.000      -1.911      -1.861\n",
      "SchoolHoliday     -0.0679      0.012     -5.669      0.000      -0.091      -0.044\n",
      "DayOfWeek_2        0.4187      0.016     25.775      0.000       0.387       0.451\n",
      "DayOfWeek_3        0.3871      0.016     23.619      0.000       0.355       0.419\n",
      "DayOfWeek_4        0.3511      0.017     21.070      0.000       0.318       0.384\n",
      "DayOfWeek_5       -0.1246      0.018     -7.056      0.000      -0.159      -0.090\n",
      "DayOfWeek_6        0.6221      0.015     41.480      0.000       0.593       0.651\n",
      "DayOfWeek_7        0.7510      0.049     15.180      0.000       0.654       0.848\n",
      "StateHoliday_a     0.6011      0.127      4.745      0.000       0.353       0.849\n",
      "StateHoliday_b     1.1396      0.243      4.693      0.000       0.664       1.616\n",
      "StateHoliday_c    -0.7901      0.530     -1.489      0.136      -1.830       0.250\n",
      "==================================================================================\n",
      "        Logit Marginal Effects       \n",
      "=====================================\n",
      "Dep. Variable:           lowSalesFlag\n",
      "Method:                          dydx\n",
      "At:                           overall\n",
      "==================================================================================\n",
      "                    dy/dx    std err          z      P>|z|      [0.025      0.975]\n",
      "----------------------------------------------------------------------------------\n",
      "Promo             -0.2131      0.001   -147.907      0.000      -0.216      -0.210\n",
      "SchoolHoliday     -0.0077      0.001     -5.669      0.000      -0.010      -0.005\n",
      "DayOfWeek_2        0.0473      0.002     25.800      0.000       0.044       0.051\n",
      "DayOfWeek_3        0.0437      0.002     23.637      0.000       0.040       0.047\n",
      "DayOfWeek_4        0.0397      0.002     21.082      0.000       0.036       0.043\n",
      "DayOfWeek_5       -0.0141      0.002     -7.056      0.000      -0.018      -0.010\n",
      "DayOfWeek_6        0.0703      0.002     41.648      0.000       0.067       0.074\n",
      "DayOfWeek_7        0.0848      0.006     15.190      0.000       0.074       0.096\n",
      "StateHoliday_a     0.0679      0.014      4.745      0.000       0.040       0.096\n",
      "StateHoliday_b     0.1288      0.027      4.693      0.000       0.075       0.183\n",
      "StateHoliday_c    -0.0893      0.060     -1.489      0.136      -0.207       0.028\n",
      "==================================================================================\n"
     ]
    }
   ],
   "source": [
    "#Fill in the formula for statmodel below \n",
    "f = 'lnSales ~ XXX'\n",
    "\n",
    "### Fit the model\n",
    "model_logit = smf.logit(XXX,data = XXX).fit90\n",
    "\n",
    "print(model_logit.summary())\n",
    "\n",
    "mfx = model_logit.get_margeff()\n",
    "print(mfx.summary())\n",
    "\n",
    "\n",
    "\n"
   ]
  },
  {
   "cell_type": "markdown",
   "metadata": {
    "id": "promotional-klein"
   },
   "source": [
    "## <span style=\"color:purple\"> Q10:  Based on your results answer the following questions:</span> "
   ]
  },
  {
   "cell_type": "markdown",
   "metadata": {
    "id": "front-group"
   },
   "source": [
    "### <span style=\"color:purple\">  For which day, on average, are sales most likely to be low? </span> "
   ]
  },
  {
   "cell_type": "markdown",
   "metadata": {
    "id": "valid-shopper"
   },
   "source": [
    "XXX"
   ]
  },
  {
   "cell_type": "markdown",
   "metadata": {
    "id": "macro-nitrogen"
   },
   "source": [
    "### <span style=\"color:purple\"> By how much does running a promotion reduce the probability of a low-sales day? </span>"
   ]
  },
  {
   "cell_type": "markdown",
   "metadata": {
    "id": "allied-sentence"
   },
   "source": [
    "XXX"
   ]
  },
  {
   "cell_type": "markdown",
   "metadata": {
    "id": "interesting-savage"
   },
   "source": [
    "### <span style=\"color:purple\">  During which type of `StateHoliday` is the probablity of low sales the highest? </span>"
   ]
  },
  {
   "cell_type": "markdown",
   "metadata": {
    "id": "affected-metro"
   },
   "source": [
    "XXX"
   ]
  },
  {
   "cell_type": "markdown",
   "metadata": {
    "id": "favorite-repair"
   },
   "source": [
    "## <span style=\"color:purple\"> Q11: Now predict sales for the individual stores in data in`test_df` </span>"
   ]
  },
  {
   "cell_type": "code",
   "execution_count": null,
   "metadata": {
    "id": "intelligent-denial",
    "outputId": "736f35d8-c823-4ddc-ed2a-3e89515f02e8",
    "run_control": {
     "marked": true
    },
    "scrolled": true
   },
   "outputs": [
    {
     "name": "stdout",
     "output_type": "stream",
     "text": [
      "count    340785.000000\n",
      "mean          0.136881\n",
      "std           0.099540\n",
      "min           0.024884\n",
      "25%           0.042088\n",
      "50%           0.152607\n",
      "75%           0.231013\n",
      "max           0.409377\n",
      "dtype: float64\n"
     ]
    },
    {
     "data": {
      "text/plain": [
       "<AxesSubplot:>"
      ]
     },
     "execution_count": 94,
     "metadata": {},
     "output_type": "execute_result"
    },
    {
     "data": {
      "image/png": "[encoded data removed]",
      "text/plain": [
       "<Figure size 432x288 with 1 Axes>"
      ]
     },
     "metadata": {
      "needs_background": "light"
     },
     "output_type": "display_data"
    }
   ],
   "source": [
    "dat = testing_df\n",
    "\n",
    "# make predictions\n",
    "\n",
    "pred = model_logit.predict(XXX)    # predict out of sample\n",
    "print(pred.describe())\n",
    "pred.hist()"
   ]
  },
  {
   "cell_type": "markdown",
   "metadata": {
    "id": "excited-wheat"
   },
   "source": [
    "## <span style=\"color:purple\"> Q12 Calculate how accurate your predictions for individual firms are.  Plot the results. </span>"
   ]
  },
  {
   "cell_type": "code",
   "execution_count": null,
   "metadata": {
    "id": "naval-witch",
    "outputId": "d10d9fae-f923-4378-b370-6e8fcfedf5f1"
   },
   "outputs": [
    {
     "name": "stdout",
     "output_type": "stream",
     "text": [
      "Confusion Matrix: Low Sales = 1)\n",
      "          0         1\n",
      "0  209250.0  222199.0\n",
      "1    8052.0   64106.0\n",
      "\n",
      "Accuracy (statsmodels):  0.54\n",
      "\n",
      "              actual      predicted\n",
      "count  340785.000000  340785.000000\n",
      "mean        0.114486       0.136881\n",
      "std         0.318401       0.099540\n",
      "min         0.000000       0.024884\n",
      "25%         0.000000       0.042088\n",
      "50%         0.000000       0.152607\n",
      "75%         0.000000       0.231013\n",
      "max         1.000000       0.409377\n",
      "\n",
      "Accuracy (sklearn):  0.56\n",
      "\n"
     ]
    }
   ],
   "source": [
    "# Shown two ways.  Only one is required\n",
    "\n",
    "\n",
    "# Helper function\n",
    "\n",
    "def cm2accuracy(tab):                    # convert 2x2 confusion matrix to accuracy (pct correct)\n",
    "    correct  = (tab[0][0] + tab[1][1])\n",
    "    total    = sum(sum(tab))\n",
    "    accuracy = correct/total\n",
    "    return(accuracy)\n",
    "\n",
    "p_baseline           = np.mean(working_df['lowSalesFlag'])\n",
    "\n",
    "# Calculate accuracy of statsmodels logit model using statsmodels pred.table (confusion matrix)\n",
    "\n",
    "## Use the threshold above\n",
    "logit_pred_tab       = model_logit.pred_table(XXX)\n",
    "model_logit_accuracy = cm2accuracy(logit_pred_tab)\n",
    "\n",
    "print(\"Confusion Matrix: Low Sales = 1)\")\n",
    "\n",
    "print(pd.DataFrame(np.round(logit_pred_tab,0)))\n",
    "print()\n",
    "      \n",
    "print(\"Accuracy (statsmodels): \",np.round(model_logit_accuracy,2))\n",
    "print()\n",
    "\n",
    "print(pred_df.describe())\n",
    "print()\n",
    "\n",
    "# ------------------------------------------------------------------\n"
   ]
  },
  {
   "cell_type": "markdown",
   "metadata": {
    "id": "outstanding-graduation"
   },
   "source": [
    "## <span style=\"color:purple\">  Q13: Discuss your logit model results </span>"
   ]
  },
  {
   "cell_type": "markdown",
   "metadata": {
    "id": "circular-format"
   },
   "source": [
    "XXX"
   ]
  },
  {
   "cell_type": "markdown",
   "metadata": {
    "id": "associate-reggae"
   },
   "source": [
    "XXX"
   ]
  },
  {
   "cell_type": "markdown",
   "metadata": {
    "id": "eleven-account"
   },
   "source": [
    "## <span style=\"color:purple\">  Q14 Discuss what your next steps would be  to: </span>"
   ]
  },
  {
   "cell_type": "markdown",
   "metadata": {
    "id": "electoral-advancement"
   },
   "source": [
    "### <span style=\"color:purple\"> Improve your models' predictions </span>"
   ]
  },
  {
   "cell_type": "markdown",
   "metadata": {
    "id": "static-philippines"
   },
   "source": [
    "XXX"
   ]
  },
  {
   "cell_type": "markdown",
   "metadata": {
    "id": "medical-heather"
   },
   "source": [
    "### <span style=\"color:purple\"> Convert your OLS results to estimates of total sales for the firm </span>"
   ]
  },
  {
   "cell_type": "markdown",
   "metadata": {
    "id": "controlling-watch"
   },
   "source": [
    "XXX"
   ]
  },
  {
   "cell_type": "markdown",
   "metadata": {
    "id": "spanish-phase"
   },
   "source": [
    "###  <span style=\"color:purple\"> Begin to prepare for predicting low sales for each store relative to **its own** historical mean</span>"
   ]
  },
  {
   "cell_type": "markdown",
   "metadata": {
    "id": "blond-northern"
   },
   "source": [
    "XXX"
   ]
  }
 ],
 "metadata": {
  "colab": {
   "name": "HW-LM-GLM.ipynb",
   "provenance": []
  },
  "kernelspec": {
   "display_name": "Python 3 (ipykernel)",
   "language": "python",
   "name": "python3"
  },
  "language_info": {
   "codemirror_mode": {
    "name": "ipython",
    "version": 3
   },
   "file_extension": ".py",
   "mimetype": "text/x-python",
   "name": "python",
   "nbconvert_exporter": "python",
   "pygments_lexer": "ipython3",
   "version": "3.8.5"
  },
  "latex_envs": {
   "LaTeX_envs_menu_present": true,
   "autoclose": false,
   "autocomplete": true,
   "bibliofile": "biblio.bib",
   "cite_by": "apalike",
   "current_citInitial": 1,
   "eqLabelWithNumbers": true,
   "eqNumInitial": 1,
   "hotkeys": {
    "equation": "Ctrl-E",
    "itemize": "Ctrl-I"
   },
   "labels_anchors": false,
   "latex_user_defs": false,
   "report_style_numbering": false,
   "user_envs_cfg": false
  },
  "toc": {
   "base_numbering": 1,
   "nav_menu": {},
   "number_sections": true,
   "sideBar": true,
   "skip_h1_title": false,
   "title_cell": "Table of Contents",
   "title_sidebar": "Contents",
   "toc_cell": false,
   "toc_position": {},
   "toc_section_display": true,
   "toc_window_display": false
  },
  "varInspector": {
   "cols": {
    "lenName": 16,
    "lenType": 16,
    "lenVar": 40
   },
   "kernels_config": {
    "python": {
     "delete_cmd_postfix": "",
     "delete_cmd_prefix": "del ",
     "library": "var_list.py",
     "varRefreshCmd": "print(var_dic_list())"
    },
    "r": {
     "delete_cmd_postfix": ") ",
     "delete_cmd_prefix": "rm(",
     "library": "var_list.r",
     "varRefreshCmd": "cat(var_dic_list()) "
    }
   },
   "types_to_exclude": [
    "module",
    "function",
    "builtin_function_or_method",
    "instance",
    "_Feature"
   ],
   "window_display": false
  }
 },
 "nbformat": 4,
 "nbformat_minor": 5
}
